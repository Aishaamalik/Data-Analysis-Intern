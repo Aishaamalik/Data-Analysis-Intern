{
  "nbformat": 4,
  "nbformat_minor": 0,
  "metadata": {
    "colab": {
      "provenance": [],
      "authorship_tag": "ABX9TyOjySGGNMIUX7xCmJHgcM+s",
      "include_colab_link": true
    },
    "kernelspec": {
      "name": "python3",
      "display_name": "Python 3"
    },
    "language_info": {
      "name": "python"
    }
  },
  "cells": [
    {
      "cell_type": "markdown",
      "metadata": {
        "id": "view-in-github",
        "colab_type": "text"
      },
      "source": [
        "<a href=\"https://colab.research.google.com/github/Aishaamalik/Data-Analysis-Intern/blob/main/Hypothesis_Testing.ipynb\" target=\"_parent\"><img src=\"https://colab.research.google.com/assets/colab-badge.svg\" alt=\"Open In Colab\"/></a>"
      ]
    },
    {
      "cell_type": "markdown",
      "source": [
        "#Hypothesis Testing"
      ],
      "metadata": {
        "id": "sulrYI0IBgUs"
      }
    },
    {
      "cell_type": "markdown",
      "source": [
        "#1 What is Hypothesis Testing?\n",
        "Hypothesis testing is a statistical method used to make decisions based on data. It helps us decide whether there is enough evidence to reject a claim about a population.\n",
        "\n",
        "##Key Terms\n",
        "- Null Hypothesis (H₀): The default assumption (e.g., \"no effect\", \"no difference\").\n",
        "\n",
        "- Alternative Hypothesis (H₁): What you want to prove.\n",
        "\n",
        "- p-value: The probability of observing your data (or something more extreme) assuming the null hypothesis is true.\n",
        "\n",
        "- α (Significance level): The threshold for rejecting H₀ (commonly set to 0.05).\n",
        "\n",
        "If the p-value < α, reject H₀. Otherwise, fail to reject H₀."
      ],
      "metadata": {
        "id": "eWBth74qBwkv"
      }
    },
    {
      "cell_type": "markdown",
      "source": [
        "#2 One-Sample t-test\n",
        "Used to test whether the mean of a single group is equal to a known value.\n",
        "\n",
        "##Example\n",
        "Suppose the mean weight of apples is believed to be 150g. We want to test if our sample mean significantly differs from that."
      ],
      "metadata": {
        "id": "SPygm-5CB8WP"
      }
    },
    {
      "cell_type": "code",
      "source": [
        "import numpy as np\n",
        "from scipy import stats\n",
        "\n",
        "# Sample weights of apples\n",
        "apple_weights = np.array([148, 152, 150, 149, 151, 153, 147, 154])\n",
        "\n",
        "# Perform one-sample t-test\n",
        "t_statistic, p_value = stats.ttest_1samp(apple_weights, 150)\n",
        "\n",
        "print(\"t-statistic:\", t_statistic)\n",
        "print(\"p-value:\", p_value)\n"
      ],
      "metadata": {
        "colab": {
          "base_uri": "https://localhost:8080/"
        },
        "id": "7CqVf7BrCDwo",
        "outputId": "f59e8039-c392-468f-b680-1e576a6ab130"
      },
      "execution_count": 1,
      "outputs": [
        {
          "output_type": "stream",
          "name": "stdout",
          "text": [
            "t-statistic: 0.5773502691896258\n",
            "p-value: 0.5817882345917442\n"
          ]
        }
      ]
    }
  ]
}