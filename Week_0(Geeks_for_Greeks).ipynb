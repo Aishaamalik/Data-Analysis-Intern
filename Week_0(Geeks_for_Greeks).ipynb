{
  "nbformat": 4,
  "nbformat_minor": 0,
  "metadata": {
    "colab": {
      "provenance": [],
      "authorship_tag": "ABX9TyMaarkW16wP7sE7jPr+63JB",
      "include_colab_link": true
    },
    "kernelspec": {
      "name": "python3",
      "display_name": "Python 3"
    },
    "language_info": {
      "name": "python"
    }
  },
  "cells": [
    {
      "cell_type": "markdown",
      "metadata": {
        "id": "view-in-github",
        "colab_type": "text"
      },
      "source": [
        "<a href=\"https://colab.research.google.com/github/Aishaamalik/Data-Analysis-Intern/blob/main/Week_0(Geeks_for_Greeks).ipynb\" target=\"_parent\"><img src=\"https://colab.research.google.com/assets/colab-badge.svg\" alt=\"Open In Colab\"/></a>"
      ]
    },
    {
      "cell_type": "markdown",
      "source": [
        "#Data Analysis with Python"
      ],
      "metadata": {
        "id": "Hv85ySjHqBut"
      }
    },
    {
      "cell_type": "markdown",
      "source": [
        "#Section 1: What is NumPy?\n",
        "\n",
        "Key Concepts:\n",
        "\n",
        "- NumPy is a library in Python used for numerical and scientific computing.\n",
        "\n",
        "- It provides a high-performance multidimensional array object and functions to work with it efficiently.\n",
        "\n",
        "- The core object in NumPy is called a ndarray (n-dimensional array).\n",
        "\n",
        "Why NumPy?\n",
        "\n",
        "- More efficient than Python lists (speed and memory).\n",
        "\n",
        "- Useful for data analysis, machine learning, simulations, statistics, and more."
      ],
      "metadata": {
        "id": "wNXIxYxTzJBN"
      }
    },
    {
      "cell_type": "markdown",
      "source": [
        "#Section 2: Creating NumPy Arrays\n",
        "\n",
        "##2.1. Using np.empty()\n",
        "\n",
        "Creates an array without initializing its entries (values are random garbage from memory)."
      ],
      "metadata": {
        "id": "S_7KtuO_zVUo"
      }
    },
    {
      "cell_type": "code",
      "source": [
        "import numpy as np\n",
        "\n",
        "a = np.empty([2, 2], dtype=int)\n",
        "print(\"Matrix a:\\n\", a)\n",
        "\n",
        "b = np.empty(2, dtype=int)\n",
        "print(\"Matrix b:\\n\", b)\n"
      ],
      "metadata": {
        "colab": {
          "base_uri": "https://localhost:8080/"
        },
        "id": "uBPrcpeXzeMY",
        "outputId": "1e03b564-a732-47af-cde7-f0884b0b262d"
      },
      "execution_count": 1,
      "outputs": [
        {
          "output_type": "stream",
          "name": "stdout",
          "text": [
            "Matrix a:\n",
            " [[        565120508                 0]\n",
            " [   18000284026724 28147497671065600]]\n",
            "Matrix b:\n",
            " [              1 140732475047936]\n"
          ]
        }
      ]
    },
    {
      "cell_type": "markdown",
      "source": [
        "##2.2. Using np.zeros()\n",
        "Creates an array filled with zeros."
      ],
      "metadata": {
        "id": "jikj01Tvz3fR"
      }
    },
    {
      "cell_type": "code",
      "source": [
        "a = np.zeros([2, 2], dtype=int)\n",
        "print(\"Matrix a:\\n\", a)\n",
        "\n",
        "b = np.zeros(2, dtype=int)\n",
        "print(\"Matrix b:\\n\", b)\n",
        "\n",
        "c = np.zeros([3, 3])\n",
        "print(\"Matrix c:\\n\", c)\n"
      ],
      "metadata": {
        "colab": {
          "base_uri": "https://localhost:8080/"
        },
        "id": "0ypKD3Ab0RLc",
        "outputId": "52299182-c9a8-426c-ad4b-90812d689682"
      },
      "execution_count": 2,
      "outputs": [
        {
          "output_type": "stream",
          "name": "stdout",
          "text": [
            "Matrix a:\n",
            " [[0 0]\n",
            " [0 0]]\n",
            "Matrix b:\n",
            " [0 0]\n",
            "Matrix c:\n",
            " [[0. 0. 0.]\n",
            " [0. 0. 0.]\n",
            " [0. 0. 0.]]\n"
          ]
        }
      ]
    },
    {
      "cell_type": "markdown",
      "source": [
        " #Section 3: Arithmetic Operations\n",
        "\n",
        "##3.1. Addition"
      ],
      "metadata": {
        "id": "KSn-A6c91EBZ"
      }
    },
    {
      "cell_type": "code",
      "source": [
        "a = np.array([5, 72, 13, 100])\n",
        "b = np.array([2, 5, 10, 30])\n",
        "\n",
        "print(a + b)               # Element-wise addition\n",
        "print(np.add(a, b))        # Same using np.add\n",
        "\n",
        "# Add 3 arrays\n",
        "c = np.array([1, 2, 3, 4])\n",
        "print(a + b + c)\n",
        "print(np.add(a, b, c))     # np.add with 3 args ignores c!\n"
      ],
      "metadata": {
        "colab": {
          "base_uri": "https://localhost:8080/"
        },
        "id": "jbVKx4gP1HrH",
        "outputId": "c656721a-cf57-41b2-e0b6-8c45d710da6a"
      },
      "execution_count": 3,
      "outputs": [
        {
          "output_type": "stream",
          "name": "stdout",
          "text": [
            "[  7  77  23 130]\n",
            "[  7  77  23 130]\n",
            "[  8  79  26 134]\n",
            "[  7  77  23 130]\n"
          ]
        }
      ]
    },
    {
      "cell_type": "markdown",
      "source": [
        "##3.2. Subtraction, Multiplication, Division"
      ],
      "metadata": {
        "id": "o2MIs4i11Nrk"
      }
    },
    {
      "cell_type": "code",
      "source": [
        "# Subtraction\n",
        "print(a - b)\n",
        "print(np.subtract(a, b))\n",
        "\n",
        "# Multiplication\n",
        "print(a * b)\n",
        "print(np.multiply(a, b))\n",
        "\n",
        "# Division\n",
        "print(a / b)\n",
        "print(np.divide(a, b))\n"
      ],
      "metadata": {
        "colab": {
          "base_uri": "https://localhost:8080/"
        },
        "id": "qMXXNhak1PmN",
        "outputId": "22d17115-2f33-4047-fc5b-81a8a8d1f7bc"
      },
      "execution_count": 4,
      "outputs": [
        {
          "output_type": "stream",
          "name": "stdout",
          "text": [
            "[ 3 67  3 70]\n",
            "[ 3 67  3 70]\n",
            "[  10  360  130 3000]\n",
            "[  10  360  130 3000]\n",
            "[ 2.5        14.4         1.3         3.33333333]\n",
            "[ 2.5        14.4         1.3         3.33333333]\n"
          ]
        }
      ]
    },
    {
      "cell_type": "markdown",
      "source": [
        "#Section 4: Indexing and Slicing\n",
        "##4.1. Indexing"
      ],
      "metadata": {
        "id": "zGFvDlEp1X1K"
      }
    },
    {
      "cell_type": "code",
      "source": [
        "a = np.arange(10, 1, -2)\n",
        "print(\"a:\", a)\n",
        "\n",
        "newarr = a[np.array([3, 1, 2])]\n",
        "print(\"Selected indices:\", newarr)\n"
      ],
      "metadata": {
        "colab": {
          "base_uri": "https://localhost:8080/"
        },
        "id": "bKzSF0jH1btA",
        "outputId": "73ef45bd-393a-41f7-bc0a-e01dbb86562e"
      },
      "execution_count": 5,
      "outputs": [
        {
          "output_type": "stream",
          "name": "stdout",
          "text": [
            "a: [10  8  6  4  2]\n",
            "Selected indices: [4 8 6]\n"
          ]
        }
      ]
    },
    {
      "cell_type": "markdown",
      "source": [
        "##4.2. Slicing"
      ],
      "metadata": {
        "id": "lx9G6kqG1hHq"
      }
    },
    {
      "cell_type": "code",
      "source": [
        "a = np.arange(20)\n",
        "print(\"a:\", a)\n",
        "\n",
        "print(\"a[-8:17:1] =\", a[-8:17:1])\n",
        "print(\"a[10:] =\", a[10:])\n"
      ],
      "metadata": {
        "colab": {
          "base_uri": "https://localhost:8080/"
        },
        "id": "Kvlaau-s1i2d",
        "outputId": "ba7b0734-0114-47be-cabb-90935807ba5c"
      },
      "execution_count": 6,
      "outputs": [
        {
          "output_type": "stream",
          "name": "stdout",
          "text": [
            "a: [ 0  1  2  3  4  5  6  7  8  9 10 11 12 13 14 15 16 17 18 19]\n",
            "a[-8:17:1] = [12 13 14 15 16]\n",
            "a[10:] = [10 11 12 13 14 15 16 17 18 19]\n"
          ]
        }
      ]
    },
    {
      "cell_type": "markdown",
      "source": [
        "##4.3. Using Ellipsis (...)"
      ],
      "metadata": {
        "id": "c_x1250h1lE-"
      }
    },
    {
      "cell_type": "code",
      "source": [
        "b = np.array([[[1, 2, 3], [4, 5, 6]],\n",
        "              [[7, 8, 9], [10, 11, 12]]])\n",
        "\n",
        "print(b[..., 1])  # Get second element in innermost dimension\n"
      ],
      "metadata": {
        "colab": {
          "base_uri": "https://localhost:8080/"
        },
        "id": "J8RKpnFR1n6e",
        "outputId": "c8b694da-8037-4f42-ca46-2733cbf9c32b"
      },
      "execution_count": 7,
      "outputs": [
        {
          "output_type": "stream",
          "name": "stdout",
          "text": [
            "[[ 2  5]\n",
            " [ 8 11]]\n"
          ]
        }
      ]
    },
    {
      "cell_type": "markdown",
      "source": [
        "#Section 5: Broadcasting\n",
        "**Concept:**\n",
        "\n",
        "- Allows arithmetic on arrays with different shapes.\n",
        "\n",
        "- NumPy automatically stretches the smaller array to match the larger one’s shape.\n",
        "\n",
        "Example: Calories from nutrients"
      ],
      "metadata": {
        "id": "FozMmQVo1qOs"
      }
    },
    {
      "cell_type": "code",
      "source": [
        "macros = np.array([\n",
        "    [0.8, 2.9, 3.9],\n",
        "    [52.4, 23.6, 36.5],\n",
        "    [55.2, 31.7, 23.9],\n",
        "    [14.4, 11, 4.9]\n",
        "])\n",
        "\n",
        "cal_per_macro = np.array([3, 3, 8])  # Scaling factors\n",
        "\n",
        "result = macros * cal_per_macro\n",
        "print(result)\n"
      ],
      "metadata": {
        "colab": {
          "base_uri": "https://localhost:8080/"
        },
        "id": "Dt9qEgj31wjl",
        "outputId": "4a037e5a-c100-4112-d247-e0248619d549"
      },
      "execution_count": 8,
      "outputs": [
        {
          "output_type": "stream",
          "name": "stdout",
          "text": [
            "[[  2.4   8.7  31.2]\n",
            " [157.2  70.8 292. ]\n",
            " [165.6  95.1 191.2]\n",
            " [ 43.2  33.   39.2]]\n"
          ]
        }
      ]
    },
    {
      "cell_type": "markdown",
      "source": [
        "##5.1. Broadcasting Rules"
      ],
      "metadata": {
        "id": "4z42B3VG1yZg"
      }
    },
    {
      "cell_type": "code",
      "source": [
        "v = np.array([12, 24, 36])\n",
        "w = np.array([45, 55])\n",
        "\n",
        "# Reshape v to (3, 1) to make it broadcastable\n",
        "print(np.reshape(v, (3, 1)) * w)\n",
        "\n",
        "X = np.array([[12, 22, 33], [45, 55, 66]])\n",
        "\n",
        "print(X + v)\n",
        "print((X.T + w).T)\n",
        "print(X * 2)\n"
      ],
      "metadata": {
        "id": "0UuNhZ3n10MV",
        "outputId": "12952d2b-f4fc-4f31-b4a8-0ba8fb8cffad",
        "colab": {
          "base_uri": "https://localhost:8080/"
        }
      },
      "execution_count": 9,
      "outputs": [
        {
          "output_type": "stream",
          "name": "stdout",
          "text": [
            "[[ 540  660]\n",
            " [1080 1320]\n",
            " [1620 1980]]\n",
            "[[ 24  46  69]\n",
            " [ 57  79 102]]\n",
            "[[ 57  67  78]\n",
            " [100 110 121]]\n",
            "[[ 24  44  66]\n",
            " [ 90 110 132]]\n"
          ]
        }
      ]
    }
  ]
}