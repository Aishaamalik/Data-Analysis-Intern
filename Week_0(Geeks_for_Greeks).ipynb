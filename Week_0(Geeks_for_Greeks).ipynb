{
  "nbformat": 4,
  "nbformat_minor": 0,
  "metadata": {
    "colab": {
      "provenance": [],
      "authorship_tag": "ABX9TyM+Rhn6R20KB5mEaQtPgHQq",
      "include_colab_link": true
    },
    "kernelspec": {
      "name": "python3",
      "display_name": "Python 3"
    },
    "language_info": {
      "name": "python"
    }
  },
  "cells": [
    {
      "cell_type": "markdown",
      "metadata": {
        "id": "view-in-github",
        "colab_type": "text"
      },
      "source": [
        "<a href=\"https://colab.research.google.com/github/Aishaamalik/Data-Analysis-Intern/blob/main/Week_0(Geeks_for_Greeks).ipynb\" target=\"_parent\"><img src=\"https://colab.research.google.com/assets/colab-badge.svg\" alt=\"Open In Colab\"/></a>"
      ]
    },
    {
      "cell_type": "markdown",
      "source": [
        "#Data Analysis with Python"
      ],
      "metadata": {
        "id": "Hv85ySjHqBut"
      }
    },
    {
      "cell_type": "markdown",
      "source": [
        "#Section 1: What is NumPy?\n",
        "\n",
        "Key Concepts:\n",
        "\n",
        "- NumPy is a library in Python used for numerical and scientific computing.\n",
        "\n",
        "- It provides a high-performance multidimensional array object and functions to work with it efficiently.\n",
        "\n",
        "- The core object in NumPy is called a ndarray (n-dimensional array).\n",
        "\n",
        "Why NumPy?\n",
        "\n",
        "- More efficient than Python lists (speed and memory).\n",
        "\n",
        "- Useful for data analysis, machine learning, simulations, statistics, and more."
      ],
      "metadata": {
        "id": "wNXIxYxTzJBN"
      }
    },
    {
      "cell_type": "markdown",
      "source": [
        "#Section 2: Creating NumPy Arrays\n",
        "\n",
        "##2.1. Using np.empty()\n",
        "\n",
        "Creates an array without initializing its entries (values are random garbage from memory)."
      ],
      "metadata": {
        "id": "S_7KtuO_zVUo"
      }
    },
    {
      "cell_type": "code",
      "source": [
        "import numpy as np\n",
        "\n",
        "a = np.empty([2, 2], dtype=int)\n",
        "print(\"Matrix a:\\n\", a)\n",
        "\n",
        "b = np.empty(2, dtype=int)\n",
        "print(\"Matrix b:\\n\", b)\n"
      ],
      "metadata": {
        "colab": {
          "base_uri": "https://localhost:8080/"
        },
        "id": "uBPrcpeXzeMY",
        "outputId": "1e03b564-a732-47af-cde7-f0884b0b262d"
      },
      "execution_count": 1,
      "outputs": [
        {
          "output_type": "stream",
          "name": "stdout",
          "text": [
            "Matrix a:\n",
            " [[        565120508                 0]\n",
            " [   18000284026724 28147497671065600]]\n",
            "Matrix b:\n",
            " [              1 140732475047936]\n"
          ]
        }
      ]
    },
    {
      "cell_type": "markdown",
      "source": [
        "##2.2. Using np.zeros()\n",
        "Creates an array filled with zeros."
      ],
      "metadata": {
        "id": "jikj01Tvz3fR"
      }
    },
    {
      "cell_type": "code",
      "source": [
        "a = np.zeros([2, 2], dtype=int)\n",
        "print(\"Matrix a:\\n\", a)\n",
        "\n",
        "b = np.zeros(2, dtype=int)\n",
        "print(\"Matrix b:\\n\", b)\n",
        "\n",
        "c = np.zeros([3, 3])\n",
        "print(\"Matrix c:\\n\", c)\n"
      ],
      "metadata": {
        "id": "0ypKD3Ab0RLc",
        "outputId": "52299182-c9a8-426c-ad4b-90812d689682",
        "colab": {
          "base_uri": "https://localhost:8080/"
        }
      },
      "execution_count": 2,
      "outputs": [
        {
          "output_type": "stream",
          "name": "stdout",
          "text": [
            "Matrix a:\n",
            " [[0 0]\n",
            " [0 0]]\n",
            "Matrix b:\n",
            " [0 0]\n",
            "Matrix c:\n",
            " [[0. 0. 0.]\n",
            " [0. 0. 0.]\n",
            " [0. 0. 0.]]\n"
          ]
        }
      ]
    }
  ]
}